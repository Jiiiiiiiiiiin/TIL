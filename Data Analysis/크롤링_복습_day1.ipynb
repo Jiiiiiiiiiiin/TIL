{
  "nbformat": 4,
  "nbformat_minor": 0,
  "metadata": {
    "colab": {
      "name": "크롤링_복습.ipynb",
      "provenance": [],
      "collapsed_sections": []
    },
    "kernelspec": {
      "name": "python3",
      "display_name": "Python 3"
    },
    "language_info": {
      "name": "python"
    }
  },
  "cells": [
    {
      "cell_type": "markdown",
      "metadata": {
        "id": "-t5uHV9zIES0"
      },
      "source": [
        "# Crawling"
      ]
    },
    {
      "cell_type": "markdown",
      "metadata": {
        "id": "Ma0hb-1qK1Ha"
      },
      "source": [
        "### 0) 웹, HTML, CSS 의 개념\n",
        "\n",
        "#### 웹\n",
        "\n",
        "* 웹 서버와 웹 클라이언트 컴퓨터들로 구성\n",
        "* HTML 언어로 작성된 텍스트 문서\n",
        "* 구조와 내용은 HTML, 모양은 CSS, 행동 및 응용프로그램 Javascript - 3요소를 분리하여 개발\n",
        "* 태그 : 블록 태그와 인라인 태그로 구분\n",
        "  * 블록 태그: < p >, < h1 >, < div >, < ul > 새 라인에서 시작하여 출력되고 양 옆에 다른 콘텐츠를 배치하지 않고 한 라인을 독점하여 사용\n",
        "  * 인라인 태그: < strong >, < a >, < img >, < span > 블록 속에 삽입되어 블록의 일부로 출력\n",
        "  * 표만들기 table, 행 tr, 하이퍼링크 a태그의 href 속성이용\n",
        "  * 앵커(페이지 내의 특정 위치) a태그의 id속성이용 \n",
        "  * 이미지 삽입 img 태크에 src 속성이용\n",
        "  * 인라인 프레임 iframe\n",
        "\n",
        "#### CSS\n",
        "\n",
        "* Selector : HTML 태그의 모양을 꾸밀 스타일 시트를 선택하는 기능\n",
        "  * 태그이름 셀렉터 : h3, li { color : brown; } 이면 h3과 li에 갈색글자\n",
        "  * class 셀렉터 : 점(.)으로 시작하는 이름의 셀렉터로 HTML 태그의 class 속성으로만 지정 가능. body.main {}면 body class = \"main\" 태그에만 적용\n",
        "  여러 태그를 하나의 그룹으로 묶어 단체로 동일한 CSS 스타일을 적용할 때 적합. class 속성 값이 같은 태그에 모두 CSS 스타일 적용. 태그의 종류에 관계없이 class 셀렉터 활용 가능\n",
        "  * id 셀렉터 : #으로 시작하는 이름의 셀렉터로 HTML 태그의 id 속성으로만 지정 가능 #list {} id=list\n",
        "  id 속성의 목적은 각 태그를 유일하게 구분. 동일한 id 속성이 같지 않도록 HTML 파일 작성하는 것이 바람직. 자바스크립트 코드에서 id 값을 가진 태그 객체를 찾을 때 문제됨. id 셀렉터는 여러 태그 중 특정 태그에만 CSS 스타일을 적용할 때 적합\n",
        "  * 셀렉터 조합\n",
        "    * 자식셀렉터 div > strong\n",
        "    * 자손셀렉터 ul strong"
      ]
    },
    {
      "cell_type": "markdown",
      "metadata": {
        "id": "q_fca9q8b0bE"
      },
      "source": [
        "## 1. Beautiful Soup"
      ]
    },
    {
      "cell_type": "markdown",
      "metadata": {
        "id": "4h80BywgcFyw"
      },
      "source": [
        "* Beautiful Soup 은 파이썬에서 html 데이터를 추출하는 라이브러리. 웹문서 구조를 찾아내는 파서를 이용하여 데이터의 위치를 찾아 값을 반환\n",
        "* parser는 구문을 해석할 수 있는 단위로 분할해주는 역할"
      ]
    },
    {
      "cell_type": "markdown",
      "metadata": {
        "id": "qMnTGEL5I2G9"
      },
      "source": [
        "#### 1) Local HTML 파일열기"
      ]
    },
    {
      "cell_type": "code",
      "metadata": {
        "id": "tc2_ErY3bbUv"
      },
      "source": [
        "from bs4 import BeautifulSoup\n",
        "with open('example.html') as fp:\n",
        "  soup = BeautifulSoup(fp, 'html.parser')"
      ],
      "execution_count": 3,
      "outputs": []
    },
    {
      "cell_type": "code",
      "metadata": {
        "colab": {
          "base_uri": "https://localhost:8080/"
        },
        "id": "lXjU4vT3bs56",
        "outputId": "063e5be4-cdac-4db9-d1ab-9c3f7404b4b2"
      },
      "source": [
        "soup"
      ],
      "execution_count": 4,
      "outputs": [
        {
          "output_type": "execute_result",
          "data": {
            "text/plain": [
              "<!DOCTYPE html>\n",
              "\n",
              "<html lang=\"en\">\n",
              "<head>\n",
              "<meta charset=\"utf-8\"/>\n",
              "<meta content=\"width=device-width, initial-scale=1.0\" name=\"viewport\"/>\n",
              "<title>Web Crawling Example</title>\n",
              "</head>\n",
              "<body>\n",
              "<div>\n",
              "<p>a</p><p>b</p><p>c</p>\n",
              "</div>\n",
              "<div class=\"ex_class sample\">\n",
              "<p>1</p><p>2</p><p>3</p>\n",
              "</div>\n",
              "<div id=\"ex_id\">\n",
              "<p>X</p><p>Y</p><p>Z</p>\n",
              "</div>\n",
              "<h1>This is a heading.</h1>\n",
              "<p>This is a paragraph.</p>\n",
              "<p>This is another paragraph.</p>\n",
              "<a class=\"a sample\" href=\"www.naver.com\">Naver</a>\n",
              "</body>\n",
              "</html>"
            ]
          },
          "metadata": {
            "tags": []
          },
          "execution_count": 4
        }
      ]
    },
    {
      "cell_type": "markdown",
      "metadata": {
        "id": "NBH-kJ9lI262"
      },
      "source": [
        "#### 2) 태그 이용해서 가져오기\n",
        "\n",
        "* find() - 값을 하나만 찾는 메서드\n",
        "* find_all() - 모든 값을 찾는 메서드 (list형태)"
      ]
    },
    {
      "cell_type": "code",
      "metadata": {
        "colab": {
          "base_uri": "https://localhost:8080/"
        },
        "id": "cmEPTEHJdLP0",
        "outputId": "b37d7ffd-585b-49dd-fce1-7faba068a159"
      },
      "source": [
        "first_div = soup.find('div')\n",
        "first_div"
      ],
      "execution_count": 6,
      "outputs": [
        {
          "output_type": "execute_result",
          "data": {
            "text/plain": [
              "<div>\n",
              "<p>a</p><p>b</p><p>c</p>\n",
              "</div>"
            ]
          },
          "metadata": {
            "tags": []
          },
          "execution_count": 6
        }
      ]
    },
    {
      "cell_type": "code",
      "metadata": {
        "colab": {
          "base_uri": "https://localhost:8080/"
        },
        "id": "nkD18Dz5dkdq",
        "outputId": "498707bb-bba8-445a-cf54-01b71fafdd52"
      },
      "source": [
        "all_divs = soup.find_all('div')\n",
        "all_divs"
      ],
      "execution_count": 8,
      "outputs": [
        {
          "output_type": "execute_result",
          "data": {
            "text/plain": [
              "[<div>\n",
              " <p>a</p><p>b</p><p>c</p>\n",
              " </div>, <div class=\"ex_class sample\">\n",
              " <p>1</p><p>2</p><p>3</p>\n",
              " </div>, <div id=\"ex_id\">\n",
              " <p>X</p><p>Y</p><p>Z</p>\n",
              " </div>]"
            ]
          },
          "metadata": {
            "tags": []
          },
          "execution_count": 8
        }
      ]
    },
    {
      "cell_type": "code",
      "metadata": {
        "colab": {
          "base_uri": "https://localhost:8080/"
        },
        "id": "rJrZBLB_dqA7",
        "outputId": "343ce148-3f29-48ab-918a-ef41426cfba2"
      },
      "source": [
        "len(all_divs)"
      ],
      "execution_count": 9,
      "outputs": [
        {
          "output_type": "execute_result",
          "data": {
            "text/plain": [
              "3"
            ]
          },
          "metadata": {
            "tags": []
          },
          "execution_count": 9
        }
      ]
    },
    {
      "cell_type": "code",
      "metadata": {
        "colab": {
          "base_uri": "https://localhost:8080/"
        },
        "id": "ZzZm5nBtdqU7",
        "outputId": "cf88e832-2359-4cbd-ff91-b9f84d5003da"
      },
      "source": [
        "for div in all_divs:\n",
        "  print(div)"
      ],
      "execution_count": 10,
      "outputs": [
        {
          "output_type": "stream",
          "text": [
            "<div>\n",
            "<p>a</p><p>b</p><p>c</p>\n",
            "</div>\n",
            "<div class=\"ex_class sample\">\n",
            "<p>1</p><p>2</p><p>3</p>\n",
            "</div>\n",
            "<div id=\"ex_id\">\n",
            "<p>X</p><p>Y</p><p>Z</p>\n",
            "</div>\n"
          ],
          "name": "stdout"
        }
      ]
    },
    {
      "cell_type": "code",
      "metadata": {
        "colab": {
          "base_uri": "https://localhost:8080/"
        },
        "id": "9U2ApSAZdqoM",
        "outputId": "6466bafc-90f1-4d40-a955-4892d1aa10ae"
      },
      "source": [
        "all_ps = soup.find_all('p')\n",
        "len(all_ps)\n",
        "for p in all_ps:\n",
        "  print(p)"
      ],
      "execution_count": 13,
      "outputs": [
        {
          "output_type": "stream",
          "text": [
            "<p>a</p>\n",
            "<p>b</p>\n",
            "<p>c</p>\n",
            "<p>1</p>\n",
            "<p>2</p>\n",
            "<p>3</p>\n",
            "<p>X</p>\n",
            "<p>Y</p>\n",
            "<p>Z</p>\n",
            "<p>This is a paragraph.</p>\n",
            "<p>This is another paragraph.</p>\n"
          ],
          "name": "stdout"
        }
      ]
    },
    {
      "cell_type": "markdown",
      "metadata": {
        "id": "a80l7NwvI4G3"
      },
      "source": [
        "#### 3) 태그와 속성을 이용해서 가져오기\n",
        "\n",
        "* CSS Selector : select_one 하나만 찾기\n",
        "  * soup.select_one()\n",
        "  * #은 id\n",
        "  * .은 class\n",
        "* CSS Selector : 모두찾기 list로 결과가 나옴\n",
        "  * ex_id_divs = soup.select()\n",
        "* 결과 가져오기"
      ]
    },
    {
      "cell_type": "code",
      "metadata": {
        "colab": {
          "base_uri": "https://localhost:8080/"
        },
        "id": "U_h2tN1tdL3c",
        "outputId": "bbe48cef-3b6d-490d-b755-e099f69994ed"
      },
      "source": [
        "# # is id\n",
        "ex_id_div = soup.select_one('#ex_id')\n",
        "ex_id_div"
      ],
      "execution_count": 14,
      "outputs": [
        {
          "output_type": "execute_result",
          "data": {
            "text/plain": [
              "<div id=\"ex_id\">\n",
              "<p>X</p><p>Y</p><p>Z</p>\n",
              "</div>"
            ]
          },
          "metadata": {
            "tags": []
          },
          "execution_count": 14
        }
      ]
    },
    {
      "cell_type": "code",
      "metadata": {
        "colab": {
          "base_uri": "https://localhost:8080/"
        },
        "id": "yUaFgINPeOJz",
        "outputId": "5f33c86e-bd70-437a-ed19-eef18769c41c"
      },
      "source": [
        "# . is class\n",
        "ex_sample_div = soup.select_one('.ex_class.sample')\n",
        "ex_sample_div"
      ],
      "execution_count": 16,
      "outputs": [
        {
          "output_type": "execute_result",
          "data": {
            "text/plain": [
              "<div class=\"ex_class sample\">\n",
              "<p>1</p><p>2</p><p>3</p>\n",
              "</div>"
            ]
          },
          "metadata": {
            "tags": []
          },
          "execution_count": 16
        }
      ]
    },
    {
      "cell_type": "code",
      "metadata": {
        "colab": {
          "base_uri": "https://localhost:8080/"
        },
        "id": "55BguNF5eOeS",
        "outputId": "bb05dda7-951b-409e-beee-5229a3384a83"
      },
      "source": [
        "# divs 결과는 리스트로\n",
        "ex_id_divs = soup.select('#ex_id')\n",
        "ex_id_divs"
      ],
      "execution_count": 18,
      "outputs": [
        {
          "output_type": "execute_result",
          "data": {
            "text/plain": [
              "[<div id=\"ex_id\">\n",
              " <p>X</p><p>Y</p><p>Z</p>\n",
              " </div>]"
            ]
          },
          "metadata": {
            "tags": []
          },
          "execution_count": 18
        }
      ]
    },
    {
      "cell_type": "code",
      "metadata": {
        "colab": {
          "base_uri": "https://localhost:8080/"
        },
        "id": "GeiNMpxweO19",
        "outputId": "e2d54610-defb-45e5-a694-ceef20635c94"
      },
      "source": [
        "# divs 결과는 리스트로 (class)\n",
        "sample_div = soup.select('.sample')\n",
        "sample_div"
      ],
      "execution_count": 21,
      "outputs": [
        {
          "output_type": "execute_result",
          "data": {
            "text/plain": [
              "[<div class=\"ex_class sample\">\n",
              " <p>1</p><p>2</p><p>3</p>\n",
              " </div>, <a class=\"a sample\" href=\"www.naver.com\">Naver</a>]"
            ]
          },
          "metadata": {
            "tags": []
          },
          "execution_count": 21
        }
      ]
    },
    {
      "cell_type": "code",
      "metadata": {
        "id": "OfdVUbfqePYr"
      },
      "source": [
        "all_ps = soup.find_all('p')\n",
        "p = soup.find('p')\n",
        "for div in all_divs:\n",
        "  print(div)\n",
        "ex_id_div = soup.select_one('#ex_id')\n",
        "ex_sample_div = soup.select_one('.ex_class.samle')\n",
        "ex_id_divs = soup.selesct('#ex_id')\n",
        "sample_div = soup.select('.sample')"
      ],
      "execution_count": null,
      "outputs": []
    },
    {
      "cell_type": "markdown",
      "metadata": {
        "id": "NhQwz34mI45-"
      },
      "source": [
        "##### 3-1) 결과 가져오기\n",
        "\n",
        "* 제목 가져오기\n",
        "  * get_text()\n",
        "  *.string\n",
        "* 속성값 가져오기\n",
        "  * href\n",
        "* 내용물 가져오기\n",
        "  * 상위값 먼저 찾고 원하는 내용물이 있는 p를 찾는다\n",
        "  * id = \"ex_id\"인 div에서 p 내용물 가져오기"
      ]
    },
    {
      "cell_type": "code",
      "metadata": {
        "colab": {
          "base_uri": "https://localhost:8080/",
          "height": 35
        },
        "id": "ZoeEMa5UH-ei",
        "outputId": "19a007f5-d37b-45d8-a72c-e423a8774d08"
      },
      "source": [
        "# <a class = \"a sample\" href = \"www.naver.com\">Naver</a>\n",
        "result = soup.select_one('.a.sample').get_text()\n",
        "result"
      ],
      "execution_count": 22,
      "outputs": [
        {
          "output_type": "execute_result",
          "data": {
            "application/vnd.google.colaboratory.intrinsic+json": {
              "type": "string"
            },
            "text/plain": [
              "'Naver'"
            ]
          },
          "metadata": {
            "tags": []
          },
          "execution_count": 22
        }
      ]
    },
    {
      "cell_type": "code",
      "metadata": {
        "colab": {
          "base_uri": "https://localhost:8080/",
          "height": 35
        },
        "id": "dqkysFeAgPwX",
        "outputId": "67c1f722-723e-420a-ffdb-1493892355cc"
      },
      "source": [
        "result = soup.select_one('.a.sample').string\n",
        "result"
      ],
      "execution_count": 24,
      "outputs": [
        {
          "output_type": "execute_result",
          "data": {
            "application/vnd.google.colaboratory.intrinsic+json": {
              "type": "string"
            },
            "text/plain": [
              "'Naver'"
            ]
          },
          "metadata": {
            "tags": []
          },
          "execution_count": 24
        }
      ]
    },
    {
      "cell_type": "code",
      "metadata": {
        "colab": {
          "base_uri": "https://localhost:8080/",
          "height": 35
        },
        "id": "d24FEIshgPlH",
        "outputId": "893beba7-2e68-4e74-f887-3cf86a964472"
      },
      "source": [
        "href = soup.select_one('.a.sample')['href']\n",
        "href"
      ],
      "execution_count": 25,
      "outputs": [
        {
          "output_type": "execute_result",
          "data": {
            "application/vnd.google.colaboratory.intrinsic+json": {
              "type": "string"
            },
            "text/plain": [
              "'www.naver.com'"
            ]
          },
          "metadata": {
            "tags": []
          },
          "execution_count": 25
        }
      ]
    },
    {
      "cell_type": "code",
      "metadata": {
        "colab": {
          "base_uri": "https://localhost:8080/"
        },
        "id": "FDjbNcQ5gPWn",
        "outputId": "66955694-601e-46d2-f1be-0680dd26fb3f"
      },
      "source": [
        "'''\n",
        "<div id = ex_id>\n",
        "  <p>X</p><p>Y</p><p>Z</p>\n",
        "</div>\n",
        "'''\n",
        "ex_id_div = soup.select_one('#ex_id')\n",
        "all_ps = ex_id_div.select('p')\n",
        "for p in all_ps:\n",
        "  print(p.string)"
      ],
      "execution_count": 29,
      "outputs": [
        {
          "output_type": "stream",
          "text": [
            "X\n",
            "Y\n",
            "Z\n"
          ],
          "name": "stdout"
        }
      ]
    },
    {
      "cell_type": "markdown",
      "metadata": {
        "id": "5-RmmWD7IEz8"
      },
      "source": [
        "## 2. Genie Cheart"
      ]
    },
    {
      "cell_type": "code",
      "metadata": {
        "id": "EIZQT4zwi_wo"
      },
      "source": [
        "import requests  #requests 모듈은 웹에대한 요청을 교환\n",
        "import pandas as pd"
      ],
      "execution_count": 30,
      "outputs": []
    },
    {
      "cell_type": "markdown",
      "metadata": {
        "id": "Gv7wMs4vJ74o"
      },
      "source": [
        "### 1) 인터넷 상에서 데이터 가져오기"
      ]
    },
    {
      "cell_type": "code",
      "metadata": {
        "colab": {
          "base_uri": "https://localhost:8080/",
          "height": 127
        },
        "id": "0VxQg6sSdNN2",
        "outputId": "dca7f05b-14e0-4bd9-9cf6-7da15e1b0358"
      },
      "source": [
        "# Genie Top200\n",
        "url = 'https://www.genie.co.kr/chart/top200'\n",
        "req = requests.get(url)\n",
        "html = req.text\n",
        "html"
      ],
      "execution_count": 31,
      "outputs": [
        {
          "output_type": "execute_result",
          "data": {
            "application/vnd.google.colaboratory.intrinsic+json": {
              "type": "string"
            },
            "text/plain": [
              "'<br>\\r\\n<br>\\r\\n<center>\\r\\n<img src=\"http://www.geniemusic.co.kr/images/common/logo_r1.png\"><br>\\r\\n<h2> <meta http-equiv=\"Content-Type\" content=\"text/html;charset=UTF-8\"> ì\\xa0\\x91ì\\x86\\x8dì\\x9a\\x94ì²\\xadì\\x9d´ ë³´ì\\x95\\x88ì\\xa0\\x95ì±\\x85ì\\x97\\x90 ì\\x9d\\x98í\\x95´ ì°¨ë\\x8b¨ë\\x90\\x98ì\\x97\\x88ì\\x8aµë\\x8b\\x88ë\\x8b¤. ë\\x8b¹ì\\x82¬ ê³\\xa0ê°\\x9dì\\x84¼í\\x84°ë¡\\x9c ë¬¸ì\\x9d\\x98í\\x95´ì£¼ì\\x8b\\xadì\\x8b\\x9cì\\x98¤.<br><br>\\r\\nThe security policy of the connection request is blocked. Contact your customer service representative.<br><br>\\r\\nì§\\x80ë\\x8b\\x88ë®¤ì§\\x81 ê³\\xa0ê°\\x9dì\\x84¼í\\x84° 1577-5337<br><br>\\r\\n</h2>\\r\\n</center>\\r\\n<br>'"
            ]
          },
          "metadata": {
            "tags": []
          },
          "execution_count": 31
        }
      ]
    },
    {
      "cell_type": "code",
      "metadata": {
        "id": "DsAMRhkNkGo1"
      },
      "source": [
        "header = {'User-Agent':\n",
        "          'Mozilla/5.0 (X11; Linux x86_64) AppleWebKit/537.36 (KHTML, like Gecko) Chrome/51.0.2704.103 Safari/537.36'}\n",
        "\n",
        "url = 'https://www.genie.co.kr/chart/top200'\n",
        "req = requests.get(url, headers = header)\n",
        "html = req.text\n",
        "#html"
      ],
      "execution_count": 34,
      "outputs": []
    },
    {
      "cell_type": "code",
      "metadata": {
        "id": "VX9PB8o-kGbS"
      },
      "source": [
        "from bs4 import BeautifulSoup\n",
        "soup = BeautifulSoup(html, 'html.parser')"
      ],
      "execution_count": 38,
      "outputs": []
    },
    {
      "cell_type": "markdown",
      "metadata": {
        "id": "tH0q1PVVJ8w4"
      },
      "source": [
        "### 2) 찾으려고 하는 데이터의 태그 찾기"
      ]
    },
    {
      "cell_type": "code",
      "metadata": {
        "colab": {
          "base_uri": "https://localhost:8080/"
        },
        "id": "jD7jI_-MdNg9",
        "outputId": "d70048ae-2b98-40a2-db2e-69dc1de9883e"
      },
      "source": [
        "# <table calss = \"list-wrap\">'\n",
        "table = soup.select_one('table.list-wrap')\n",
        "trs = table.select('tr')\n",
        "len(trs)"
      ],
      "execution_count": 39,
      "outputs": [
        {
          "output_type": "execute_result",
          "data": {
            "text/plain": [
              "51"
            ]
          },
          "metadata": {
            "tags": []
          },
          "execution_count": 39
        }
      ]
    },
    {
      "cell_type": "code",
      "metadata": {
        "colab": {
          "base_uri": "https://localhost:8080/"
        },
        "id": "Wi86dHrPlooI",
        "outputId": "0ac779e6-4cfb-4482-8ed6-bbfa68b36bb9"
      },
      "source": [
        "trs = soup.select('tr.list')\n",
        "len(trs)"
      ],
      "execution_count": 40,
      "outputs": [
        {
          "output_type": "execute_result",
          "data": {
            "text/plain": [
              "50"
            ]
          },
          "metadata": {
            "tags": []
          },
          "execution_count": 40
        }
      ]
    },
    {
      "cell_type": "markdown",
      "metadata": {
        "id": "GMu2HVFlKCwL"
      },
      "source": [
        "### 3) 여러개의 데이터 중 하나를 선택해서 원하는 정보 추출"
      ]
    },
    {
      "cell_type": "code",
      "metadata": {
        "colab": {
          "base_uri": "https://localhost:8080/",
          "height": 35
        },
        "id": "c6HVYjX7dN6N",
        "outputId": "ab58b0be-2196-4d7f-f0e5-dfa166cff628"
      },
      "source": [
        "# rank, title, artist, album\n",
        "tr = trs[0]\n",
        "tr.select_one('.number').get_text()"
      ],
      "execution_count": 42,
      "outputs": [
        {
          "output_type": "execute_result",
          "data": {
            "application/vnd.google.colaboratory.intrinsic+json": {
              "type": "string"
            },
            "text/plain": [
              "'1\\n                                        \\n                                    \\n유지\\n\\n'"
            ]
          },
          "metadata": {
            "tags": []
          },
          "execution_count": 42
        }
      ]
    },
    {
      "cell_type": "code",
      "metadata": {
        "colab": {
          "base_uri": "https://localhost:8080/",
          "height": 35
        },
        "id": "HNyaEjMol1oV",
        "outputId": "dea2fb6a-4a8c-44c9-886e-3188a1d082e1"
      },
      "source": [
        "# rank\n",
        "tr.select_one('.number').get_text()\n",
        "tr.select_one('.number').get_text().split('\\n')[0]"
      ],
      "execution_count": 43,
      "outputs": [
        {
          "output_type": "execute_result",
          "data": {
            "application/vnd.google.colaboratory.intrinsic+json": {
              "type": "string"
            },
            "text/plain": [
              "'1'"
            ]
          },
          "metadata": {
            "tags": []
          },
          "execution_count": 43
        }
      ]
    },
    {
      "cell_type": "code",
      "metadata": {
        "colab": {
          "base_uri": "https://localhost:8080/"
        },
        "id": "O8wbRoXWl1ZV",
        "outputId": "2a2152d8-0e6a-4dd3-c22a-1fcf92d2ea13"
      },
      "source": [
        "rank = int(tr.select_one('.number').get_text().split('\\n')[0])\n",
        "rank"
      ],
      "execution_count": 44,
      "outputs": [
        {
          "output_type": "execute_result",
          "data": {
            "text/plain": [
              "1"
            ]
          },
          "metadata": {
            "tags": []
          },
          "execution_count": 44
        }
      ]
    },
    {
      "cell_type": "code",
      "metadata": {
        "colab": {
          "base_uri": "https://localhost:8080/",
          "height": 72
        },
        "id": "wvKguxbxl1K0",
        "outputId": "8da7df97-3e74-4edf-e0d2-a69463c94a4e"
      },
      "source": [
        "# title\n",
        "tr.select_one('.info').find('a').get_text()"
      ],
      "execution_count": 45,
      "outputs": [
        {
          "output_type": "execute_result",
          "data": {
            "application/vnd.google.colaboratory.intrinsic+json": {
              "type": "string"
            },
            "text/plain": [
              "'\\n                                        \\n                                            \\n                                        \\n                                        \\n                                        \\n                                        \\n                                            \\n                                                Queendom'"
            ]
          },
          "metadata": {
            "tags": []
          },
          "execution_count": 45
        }
      ]
    },
    {
      "cell_type": "code",
      "metadata": {
        "colab": {
          "base_uri": "https://localhost:8080/",
          "height": 35
        },
        "id": "bvcGoS16l06z",
        "outputId": "b44016e2-bcd1-45ce-adc7-4b1c80405516"
      },
      "source": [
        "title = tr.select_one('.info').find('a').get_text().strip()\n",
        "title"
      ],
      "execution_count": 47,
      "outputs": [
        {
          "output_type": "execute_result",
          "data": {
            "application/vnd.google.colaboratory.intrinsic+json": {
              "type": "string"
            },
            "text/plain": [
              "'Queendom'"
            ]
          },
          "metadata": {
            "tags": []
          },
          "execution_count": 47
        }
      ]
    },
    {
      "cell_type": "code",
      "metadata": {
        "colab": {
          "base_uri": "https://localhost:8080/",
          "height": 35
        },
        "id": "GZ5p-Ro0l0o8",
        "outputId": "aa47004d-4b57-4a53-f669-c331b7e3e3c0"
      },
      "source": [
        "# artist\n",
        "artist = tr.select_one('.info').select_one('.artist').get_text().strip()\n",
        "artist"
      ],
      "execution_count": 54,
      "outputs": [
        {
          "output_type": "execute_result",
          "data": {
            "application/vnd.google.colaboratory.intrinsic+json": {
              "type": "string"
            },
            "text/plain": [
              "'Red Velvet (레드벨벳)'"
            ]
          },
          "metadata": {
            "tags": []
          },
          "execution_count": 54
        }
      ]
    },
    {
      "cell_type": "code",
      "metadata": {
        "colab": {
          "base_uri": "https://localhost:8080/",
          "height": 35
        },
        "id": "4b_FrFBol0X8",
        "outputId": "ee79b09b-41ca-4400-df38-96b65ce3e9e1"
      },
      "source": [
        "# ablum\n",
        "album = tr.select_one('.info').select_one('.albumtitle').get_text().strip()\n",
        "album"
      ],
      "execution_count": 57,
      "outputs": [
        {
          "output_type": "execute_result",
          "data": {
            "application/vnd.google.colaboratory.intrinsic+json": {
              "type": "string"
            },
            "text/plain": [
              "'Queendom - The 6th Mini Album'"
            ]
          },
          "metadata": {
            "tags": []
          },
          "execution_count": 57
        }
      ]
    },
    {
      "cell_type": "markdown",
      "metadata": {
        "id": "iPa7lkEbKHub"
      },
      "source": [
        "### 4) 한 페이지에 있는 모든 데이터를 반복문으로 가져오기"
      ]
    },
    {
      "cell_type": "code",
      "metadata": {
        "id": "2WIh3e7adOT9"
      },
      "source": [
        "rank_list, title_list, artist_list, album_list = [], [], [], []\n",
        "for tr in trs:\n",
        "  rank = tr.select_one('.number').get_text().split('\\n')[0]\n",
        "  title = tr.select_one('.info').find('a').get_text().strip()\n",
        "  artist = tr.select_one('.info').select_one('.artist').get_text().strip()\n",
        "  album = tr.select_one('.info').select_one('.albumtitle').get_text().strip()\n",
        "  rank_list.append(rank)\n",
        "  title_list.append(title)\n",
        "  artist_list.append(artist)\n",
        "  album_list.append(album)\n",
        "\n"
      ],
      "execution_count": 59,
      "outputs": []
    },
    {
      "cell_type": "code",
      "metadata": {
        "colab": {
          "base_uri": "https://localhost:8080/",
          "height": 203
        },
        "id": "jpGKTxp8pP6W",
        "outputId": "c122a7c4-6349-42f9-db2e-c65f8c586858"
      },
      "source": [
        "df = pd.DataFrame({\n",
        "    '순위' : rank_list, '곡명' : title_list, '가수' : artist_list, 'album' : album_list\n",
        "})\n",
        "df.tail()"
      ],
      "execution_count": 61,
      "outputs": [
        {
          "output_type": "execute_result",
          "data": {
            "text/html": [
              "<div>\n",
              "<style scoped>\n",
              "    .dataframe tbody tr th:only-of-type {\n",
              "        vertical-align: middle;\n",
              "    }\n",
              "\n",
              "    .dataframe tbody tr th {\n",
              "        vertical-align: top;\n",
              "    }\n",
              "\n",
              "    .dataframe thead th {\n",
              "        text-align: right;\n",
              "    }\n",
              "</style>\n",
              "<table border=\"1\" class=\"dataframe\">\n",
              "  <thead>\n",
              "    <tr style=\"text-align: right;\">\n",
              "      <th></th>\n",
              "      <th>순위</th>\n",
              "      <th>곡명</th>\n",
              "      <th>가수</th>\n",
              "      <th>album</th>\n",
              "    </tr>\n",
              "  </thead>\n",
              "  <tbody>\n",
              "    <tr>\n",
              "      <th>45</th>\n",
              "      <td>46</td>\n",
              "      <td>작은 것들을 위한 시 (Boy With Luv) (Feat. Halsey)</td>\n",
              "      <td>방탄소년단</td>\n",
              "      <td>MAP OF THE SOUL : PERSONA</td>\n",
              "    </tr>\n",
              "    <tr>\n",
              "      <th>46</th>\n",
              "      <td>47</td>\n",
              "      <td>ASAP</td>\n",
              "      <td>STAYC (스테이씨)</td>\n",
              "      <td>STAYDOM</td>\n",
              "    </tr>\n",
              "    <tr>\n",
              "      <th>47</th>\n",
              "      <td>48</td>\n",
              "      <td>운전만해 (We Ride)</td>\n",
              "      <td>브레이브걸스 (Brave girls)</td>\n",
              "      <td>We Ride</td>\n",
              "    </tr>\n",
              "    <tr>\n",
              "      <th>48</th>\n",
              "      <td>49</td>\n",
              "      <td>밤하늘의 별을 (2020)</td>\n",
              "      <td>경서</td>\n",
              "      <td>밤하늘의 별을 (2020)</td>\n",
              "    </tr>\n",
              "    <tr>\n",
              "      <th>49</th>\n",
              "      <td>50</td>\n",
              "      <td>은하수를 닮은 너에게 (Feat. 몰리디)</td>\n",
              "      <td>경서예지</td>\n",
              "      <td>은하수를 닮은 너에게</td>\n",
              "    </tr>\n",
              "  </tbody>\n",
              "</table>\n",
              "</div>"
            ],
            "text/plain": [
              "    순위  ...                      album\n",
              "45  46  ...  MAP OF THE SOUL : PERSONA\n",
              "46  47  ...                    STAYDOM\n",
              "47  48  ...                    We Ride\n",
              "48  49  ...             밤하늘의 별을 (2020)\n",
              "49  50  ...                은하수를 닮은 너에게\n",
              "\n",
              "[5 rows x 4 columns]"
            ]
          },
          "metadata": {
            "tags": []
          },
          "execution_count": 61
        }
      ]
    },
    {
      "cell_type": "code",
      "metadata": {
        "id": "-0JlDwcqpm-A"
      },
      "source": [
        "lines = []\n",
        "for tr in trs:\n",
        "  rank = tr.select_one('.number').get_text().split('\\n')[0]\n",
        "  title = tr.select_one('.info').select_one('.title').get_text().strip()\n",
        "  artist = tr.select_one('.info').select_one('.artist').get_text().strip()\n",
        "  album = tr.select_one('.info').select_one('.albumtitle').get_text().strip()\n",
        "  lines.append([rank, title, artist, album])"
      ],
      "execution_count": 62,
      "outputs": []
    },
    {
      "cell_type": "code",
      "metadata": {
        "colab": {
          "base_uri": "https://localhost:8080/",
          "height": 203
        },
        "id": "hKK3O7Q_prEc",
        "outputId": "ef0e4752-9b03-4457-beae-f7bf5215cc25"
      },
      "source": [
        "df = pd.DataFrame(lines, columns=['순위', '곡명', '가수', '앨범'])\n",
        "df.head()"
      ],
      "execution_count": 63,
      "outputs": [
        {
          "output_type": "execute_result",
          "data": {
            "text/html": [
              "<div>\n",
              "<style scoped>\n",
              "    .dataframe tbody tr th:only-of-type {\n",
              "        vertical-align: middle;\n",
              "    }\n",
              "\n",
              "    .dataframe tbody tr th {\n",
              "        vertical-align: top;\n",
              "    }\n",
              "\n",
              "    .dataframe thead th {\n",
              "        text-align: right;\n",
              "    }\n",
              "</style>\n",
              "<table border=\"1\" class=\"dataframe\">\n",
              "  <thead>\n",
              "    <tr style=\"text-align: right;\">\n",
              "      <th></th>\n",
              "      <th>순위</th>\n",
              "      <th>곡명</th>\n",
              "      <th>가수</th>\n",
              "      <th>앨범</th>\n",
              "    </tr>\n",
              "  </thead>\n",
              "  <tbody>\n",
              "    <tr>\n",
              "      <th>0</th>\n",
              "      <td>1</td>\n",
              "      <td>Queendom</td>\n",
              "      <td>Red Velvet (레드벨벳)</td>\n",
              "      <td>Queendom - The 6th Mini Album</td>\n",
              "    </tr>\n",
              "    <tr>\n",
              "      <th>1</th>\n",
              "      <td>2</td>\n",
              "      <td>신호등</td>\n",
              "      <td>이무진</td>\n",
              "      <td>신호등</td>\n",
              "    </tr>\n",
              "    <tr>\n",
              "      <th>2</th>\n",
              "      <td>3</td>\n",
              "      <td>낙하 (With 아이유)</td>\n",
              "      <td>AKMU (악뮤)</td>\n",
              "      <td>NEXT EPISODE</td>\n",
              "    </tr>\n",
              "    <tr>\n",
              "      <th>3</th>\n",
              "      <td>4</td>\n",
              "      <td>OHAYO MY NIGHT</td>\n",
              "      <td>디핵 (D-Hack) &amp; PATEKO</td>\n",
              "      <td>OHAYO MY NIGHT</td>\n",
              "    </tr>\n",
              "    <tr>\n",
              "      <th>4</th>\n",
              "      <td>5</td>\n",
              "      <td>바라만 본다</td>\n",
              "      <td>MSG워너비 (M.O.M)</td>\n",
              "      <td>MSG워너비 1집</td>\n",
              "    </tr>\n",
              "  </tbody>\n",
              "</table>\n",
              "</div>"
            ],
            "text/plain": [
              "  순위              곡명                    가수                             앨범\n",
              "0  1        Queendom     Red Velvet (레드벨벳)  Queendom - The 6th Mini Album\n",
              "1  2             신호등                   이무진                            신호등\n",
              "2  3   낙하 (With 아이유)             AKMU (악뮤)                   NEXT EPISODE\n",
              "3  4  OHAYO MY NIGHT  디핵 (D-Hack) & PATEKO                 OHAYO MY NIGHT\n",
              "4  5          바라만 본다        MSG워너비 (M.O.M)                      MSG워너비 1집"
            ]
          },
          "metadata": {
            "tags": []
          },
          "execution_count": 63
        }
      ]
    },
    {
      "cell_type": "markdown",
      "metadata": {
        "id": "b7RpRE5DKIKj"
      },
      "source": [
        "### 5) 모든 페이지에서 데이터 가져오기"
      ]
    },
    {
      "cell_type": "code",
      "metadata": {
        "id": "6yBFie_vdOue"
      },
      "source": [
        "sub = 'https://www.genie.co.kr/chart/top200?ditc=D&ymd=20210817&hh=14&rtm=Y&pg='\n",
        "rank_list, title_list, artist_list, album_list = [], [], [], []\n",
        "\n",
        "for page in range(1,5):\n",
        "  header = {'User-Agent':     #없어도 상관없음 위에 있어서\n",
        "          'Mozilla/5.0 (X11; Linux x86_64) AppleWebKit/537.36 (KHTML, like Gecko) Chrome/51.0.2704.103 Safari/537.36'} \n",
        "  url = f'{sub}{page}'\n",
        "  req = requests.get(url, headers = header)\n",
        "  html = req.text   #없어도 상관없음\n",
        "  soup = BeautifulSoup(html, 'html.parser')\n",
        "  trs = soup.select('tr.list')\n",
        "  for tr in trs:\n",
        "    rank = int(tr.select_one('.number').get_text().split('\\n')[0])\n",
        "    title = tr.select_one('.info').select_one('.title').get_text().strip()\n",
        "    artist = tr.select_one('.info').select_one('.artist').get_text().strip()\n",
        "    album = tr.select_one('.info').select_one('.albumtitle').get_text().strip()\n",
        "    rank_list.append(rank)\n",
        "    title_list.append(title)\n",
        "    artist_list.append(artist)\n",
        "    album_list.append(album)\n"
      ],
      "execution_count": 64,
      "outputs": []
    },
    {
      "cell_type": "code",
      "metadata": {
        "colab": {
          "base_uri": "https://localhost:8080/",
          "height": 203
        },
        "id": "RKwK9v-hp8GX",
        "outputId": "6d95d058-c458-4843-8f05-ef9ed2b48c8b"
      },
      "source": [
        "df = pd.DataFrame({\n",
        "    '순위' : rank_list, '곡명' : title_list, '가수' : artist_list, 'album' : album_list\n",
        "})\n",
        "df.tail()"
      ],
      "execution_count": 65,
      "outputs": [
        {
          "output_type": "execute_result",
          "data": {
            "text/html": [
              "<div>\n",
              "<style scoped>\n",
              "    .dataframe tbody tr th:only-of-type {\n",
              "        vertical-align: middle;\n",
              "    }\n",
              "\n",
              "    .dataframe tbody tr th {\n",
              "        vertical-align: top;\n",
              "    }\n",
              "\n",
              "    .dataframe thead th {\n",
              "        text-align: right;\n",
              "    }\n",
              "</style>\n",
              "<table border=\"1\" class=\"dataframe\">\n",
              "  <thead>\n",
              "    <tr style=\"text-align: right;\">\n",
              "      <th></th>\n",
              "      <th>순위</th>\n",
              "      <th>곡명</th>\n",
              "      <th>가수</th>\n",
              "      <th>album</th>\n",
              "    </tr>\n",
              "  </thead>\n",
              "  <tbody>\n",
              "    <tr>\n",
              "      <th>195</th>\n",
              "      <td>196</td>\n",
              "      <td>여름 시 (Summer Poem)</td>\n",
              "      <td>온앤오프 (ONF)</td>\n",
              "      <td>SUMMER POPUP ALBUM (POPPING)</td>\n",
              "    </tr>\n",
              "    <tr>\n",
              "      <th>196</th>\n",
              "      <td>197</td>\n",
              "      <td>힘든 건 사랑이 아니다</td>\n",
              "      <td>임창정</td>\n",
              "      <td>힘든 건 사랑이 아니다</td>\n",
              "    </tr>\n",
              "    <tr>\n",
              "      <th>197</th>\n",
              "      <td>198</td>\n",
              "      <td>Love poem</td>\n",
              "      <td>아이유 (IU)</td>\n",
              "      <td>Love poem</td>\n",
              "    </tr>\n",
              "    <tr>\n",
              "      <th>198</th>\n",
              "      <td>199</td>\n",
              "      <td>D.D.D</td>\n",
              "      <td>더보이즈 (THE BOYZ)</td>\n",
              "      <td>THE BOYZ 4th MINI ALBUM 'DREAMLIKE'</td>\n",
              "    </tr>\n",
              "    <tr>\n",
              "      <th>199</th>\n",
              "      <td>200</td>\n",
              "      <td>고백 (바른연애 길잡이 X 허각)</td>\n",
              "      <td>허각</td>\n",
              "      <td>고백 (바른연애 길잡이 X 허각)</td>\n",
              "    </tr>\n",
              "  </tbody>\n",
              "</table>\n",
              "</div>"
            ],
            "text/plain": [
              "      순위  ...                                album\n",
              "195  196  ...         SUMMER POPUP ALBUM (POPPING)\n",
              "196  197  ...                         힘든 건 사랑이 아니다\n",
              "197  198  ...                            Love poem\n",
              "198  199  ...  THE BOYZ 4th MINI ALBUM 'DREAMLIKE'\n",
              "199  200  ...                   고백 (바른연애 길잡이 X 허각)\n",
              "\n",
              "[5 rows x 4 columns]"
            ]
          },
          "metadata": {
            "tags": []
          },
          "execution_count": 65
        }
      ]
    },
    {
      "cell_type": "code",
      "metadata": {
        "id": "g2ie832zp95Y"
      },
      "source": [
        "df.to_csv('GenieTop200(210817).csv', index=False)"
      ],
      "execution_count": 66,
      "outputs": []
    },
    {
      "cell_type": "markdown",
      "metadata": {
        "id": "Q5NCtcJsIFqD"
      },
      "source": [
        "## 3. 식신"
      ]
    },
    {
      "cell_type": "code",
      "metadata": {
        "id": "0tOrApubqBL0"
      },
      "source": [
        "import requests\n",
        "import pandas as pd\n",
        "from urllib.parse import quote"
      ],
      "execution_count": 73,
      "outputs": []
    },
    {
      "cell_type": "markdown",
      "metadata": {
        "id": "almPiRhHKSd9"
      },
      "source": [
        "### 1) 데이터 가져오기"
      ]
    },
    {
      "cell_type": "code",
      "metadata": {
        "id": "J2-2dULXdPLW"
      },
      "source": [
        "base_url = 'https://www.siksinhot.com'\n",
        "url = f'{base_url}/search?keywords={quote(\"양재역\")}'\n",
        "req = requests.get(url)\n",
        "html = req.text\n",
        "#html"
      ],
      "execution_count": 74,
      "outputs": []
    },
    {
      "cell_type": "code",
      "metadata": {
        "id": "_8ZgWUpPqRqW"
      },
      "source": [
        "from bs4 import BeautifulSoup\n",
        "soup = BeautifulSoup(html, 'html.parser')"
      ],
      "execution_count": 75,
      "outputs": []
    },
    {
      "cell_type": "markdown",
      "metadata": {
        "id": "Xu87Jf3iKSxF"
      },
      "source": [
        "### 2) 찾으려고 하는 데이터의 태그 찾기"
      ]
    },
    {
      "cell_type": "code",
      "metadata": {
        "colab": {
          "base_uri": "https://localhost:8080/"
        },
        "id": "b9imeBQQdPom",
        "outputId": "975c9a5c-0f43-4ad8-c718-ef1ab4e6d3cc"
      },
      "source": [
        "lis = soup.select('div.listTy1 > ul > li')\n",
        "len(lis)"
      ],
      "execution_count": 91,
      "outputs": [
        {
          "output_type": "execute_result",
          "data": {
            "text/plain": [
              "12"
            ]
          },
          "metadata": {
            "tags": []
          },
          "execution_count": 91
        }
      ]
    },
    {
      "cell_type": "markdown",
      "metadata": {
        "id": "RMOg-aV8KTW3"
      },
      "source": [
        "### 3) 여러개의 데이터 중 하나를 선택해서 원하는 정보 추출"
      ]
    },
    {
      "cell_type": "code",
      "metadata": {
        "colab": {
          "base_uri": "https://localhost:8080/",
          "height": 35
        },
        "id": "o8OL_SeBdP_2",
        "outputId": "be6dd60f-094f-4c04-eda2-67dcac150b74"
      },
      "source": [
        "li = lis[0]\n",
        "href = li.select_one('a')['href']\n",
        "href"
      ],
      "execution_count": 90,
      "outputs": [
        {
          "output_type": "execute_result",
          "data": {
            "application/vnd.google.colaboratory.intrinsic+json": {
              "type": "string"
            },
            "text/plain": [
              "'/P/358859'"
            ]
          },
          "metadata": {
            "tags": []
          },
          "execution_count": 90
        }
      ]
    },
    {
      "cell_type": "code",
      "metadata": {
        "id": "UZbbLcNaqqPT"
      },
      "source": [
        "url = base_url + href\n",
        "req = requests.get(url)\n",
        "sub_soup = BeautifulSoup(req.text, 'html.parser')"
      ],
      "execution_count": 78,
      "outputs": []
    },
    {
      "cell_type": "code",
      "metadata": {
        "colab": {
          "base_uri": "https://localhost:8080/",
          "height": 35
        },
        "id": "tlT4ZelyqsCc",
        "outputId": "d57657da-c9e1-432b-86e9-48326a0b2f2d"
      },
      "source": [
        "store = sub_soup.select_one('.title')\n",
        "info = store.find('h3').get_text()\n",
        "info"
      ],
      "execution_count": 79,
      "outputs": [
        {
          "output_type": "execute_result",
          "data": {
            "application/vnd.google.colaboratory.intrinsic+json": {
              "type": "string"
            },
            "text/plain": [
              "'그릭슈바인 양재역점3.6HOT'"
            ]
          },
          "metadata": {
            "tags": []
          },
          "execution_count": 79
        }
      ]
    },
    {
      "cell_type": "code",
      "metadata": {
        "colab": {
          "base_uri": "https://localhost:8080/",
          "height": 35
        },
        "id": "FzDcFfHHquAW",
        "outputId": "c696db6f-260d-48fc-bddb-9b677232726d"
      },
      "source": [
        "score = store.select_one('h3 > strong').string\n",
        "score"
      ],
      "execution_count": 80,
      "outputs": [
        {
          "output_type": "execute_result",
          "data": {
            "application/vnd.google.colaboratory.intrinsic+json": {
              "type": "string"
            },
            "text/plain": [
              "'3.6'"
            ]
          },
          "metadata": {
            "tags": []
          },
          "execution_count": 80
        }
      ]
    },
    {
      "cell_type": "code",
      "metadata": {
        "colab": {
          "base_uri": "https://localhost:8080/"
        },
        "id": "HAkpKIpPqvnO",
        "outputId": "5109ba48-cfd6-4c5d-de63-d0fdf059d75e"
      },
      "source": [
        "info.find(score)"
      ],
      "execution_count": 81,
      "outputs": [
        {
          "output_type": "execute_result",
          "data": {
            "text/plain": [
              "10"
            ]
          },
          "metadata": {
            "tags": []
          },
          "execution_count": 81
        }
      ]
    },
    {
      "cell_type": "code",
      "metadata": {
        "colab": {
          "base_uri": "https://localhost:8080/",
          "height": 35
        },
        "id": "8oF3LOnXqx3Q",
        "outputId": "5f3b2741-4f05-4eec-f8d6-8bc35cd6f4c4"
      },
      "source": [
        "name = info[:info.find(score)]\n",
        "name"
      ],
      "execution_count": 82,
      "outputs": [
        {
          "output_type": "execute_result",
          "data": {
            "application/vnd.google.colaboratory.intrinsic+json": {
              "type": "string"
            },
            "text/plain": [
              "'그릭슈바인 양재역점'"
            ]
          },
          "metadata": {
            "tags": []
          },
          "execution_count": 82
        }
      ]
    },
    {
      "cell_type": "code",
      "metadata": {
        "colab": {
          "base_uri": "https://localhost:8080/",
          "height": 35
        },
        "id": "goF5Nkq4q0XR",
        "outputId": "212db32c-3d8f-4530-99d6-791669334ce2"
      },
      "source": [
        "sub_soup.select_one('.store_info p').get_text()"
      ],
      "execution_count": 83,
      "outputs": [
        {
          "output_type": "execute_result",
          "data": {
            "application/vnd.google.colaboratory.intrinsic+json": {
              "type": "string"
            },
            "text/plain": [
              "'서울-강남> 양재/도곡'"
            ]
          },
          "metadata": {
            "tags": []
          },
          "execution_count": 83
        }
      ]
    },
    {
      "cell_type": "code",
      "metadata": {
        "colab": {
          "base_uri": "https://localhost:8080/",
          "height": 35
        },
        "id": "vsVVqwiBq1WK",
        "outputId": "986b1dbf-f68c-47bb-a240-845ca1df5440"
      },
      "source": [
        "menu = sub_soup.select('.store_info p')[1].get_text()\n",
        "menu"
      ],
      "execution_count": 84,
      "outputs": [
        {
          "output_type": "execute_result",
          "data": {
            "application/vnd.google.colaboratory.intrinsic+json": {
              "type": "string"
            },
            "text/plain": [
              "'나이트라이프 > 맥주/호프'"
            ]
          },
          "metadata": {
            "tags": []
          },
          "execution_count": 84
        }
      ]
    },
    {
      "cell_type": "code",
      "metadata": {
        "colab": {
          "base_uri": "https://localhost:8080/",
          "height": 35
        },
        "id": "U1eV6h0Oq2Wy",
        "outputId": "7863ba5a-120d-47fa-f5d0-6c5d06b17e02"
      },
      "source": [
        "tel = sub_soup.select_one('.p_tel p').get_text()\n",
        "tel"
      ],
      "execution_count": 85,
      "outputs": [
        {
          "output_type": "execute_result",
          "data": {
            "application/vnd.google.colaboratory.intrinsic+json": {
              "type": "string"
            },
            "text/plain": [
              "'02-572-6100'"
            ]
          },
          "metadata": {
            "tags": []
          },
          "execution_count": 85
        }
      ]
    },
    {
      "cell_type": "code",
      "metadata": {
        "colab": {
          "base_uri": "https://localhost:8080/",
          "height": 35
        },
        "id": "WYxwAtS8q44g",
        "outputId": "a9ed7633-26a2-4ae3-9f7a-edc08e688762"
      },
      "source": [
        "addr = sub_soup.select_one('.txt_adr').string\n",
        "addr"
      ],
      "execution_count": 86,
      "outputs": [
        {
          "output_type": "execute_result",
          "data": {
            "application/vnd.google.colaboratory.intrinsic+json": {
              "type": "string"
            },
            "text/plain": [
              "'서울특별시 서초구 강남대로 224'"
            ]
          },
          "metadata": {
            "tags": []
          },
          "execution_count": 86
        }
      ]
    },
    {
      "cell_type": "markdown",
      "metadata": {
        "id": "sDMmaeD-KTmW"
      },
      "source": [
        "### 4) 한 페이지에 있는 모든 데이터를 반복문으로 가져오기\n",
        "\n",
        "* 코드 수정 예정"
      ]
    },
    {
      "cell_type": "code",
      "metadata": {
        "colab": {
          "base_uri": "https://localhost:8080/",
          "height": 267
        },
        "id": "BlzM8YqGdQj3",
        "outputId": "b9e165da-0476-465b-c41f-5806978c7108"
      },
      "source": [
        "name_list, score_list, menu_list, tel_list, addr_list = [], [], [], [], []\n",
        "for li in enumerate(lis):                                             #몇번째에서 에러나는지 확인하기위해 인덱스번호 찍기 enumerate\n",
        "  href = li.select_one('a')['href'] \n",
        "  url = base_url + href\n",
        "  req = requests.get(url)\n",
        "  sub_soup = BeautifulSoup(req.text, 'html.parser')\n",
        " \n",
        "  store = sub_soup.select_one('.title')\n",
        "  info = store.find('h3').get_text()\n",
        "  score = store.select_one('h3 > strong').string\n",
        "  name = info[:info.find(score)]\n",
        "  menu = sub_soup.select('.store_info p')[1].get_text()\n",
        "  tel = sub_soup.select_one('.p_tel p').get_text()\n",
        "  addr = sub_soup.select_one('.txt_adr').string\n",
        "\n",
        "  name_list.append(name)\n",
        "  score_list.append(float(score))\n",
        "  menu_list.append(menu)\n",
        "  tel_list.append(tel)\n",
        "  addr_list.append(addr)\n"
      ],
      "execution_count": 87,
      "outputs": [
        {
          "output_type": "error",
          "ename": "AttributeError",
          "evalue": "ignored",
          "traceback": [
            "\u001b[0;31m---------------------------------------------------------------------------\u001b[0m",
            "\u001b[0;31mAttributeError\u001b[0m                            Traceback (most recent call last)",
            "\u001b[0;32m<ipython-input-87-74db78ccbbd5>\u001b[0m in \u001b[0;36m<module>\u001b[0;34m()\u001b[0m\n\u001b[1;32m      1\u001b[0m \u001b[0mname_list\u001b[0m\u001b[0;34m,\u001b[0m \u001b[0mscore_list\u001b[0m\u001b[0;34m,\u001b[0m \u001b[0mmenu_list\u001b[0m\u001b[0;34m,\u001b[0m \u001b[0mtel_list\u001b[0m\u001b[0;34m,\u001b[0m \u001b[0maddr_list\u001b[0m \u001b[0;34m=\u001b[0m \u001b[0;34m[\u001b[0m\u001b[0;34m]\u001b[0m\u001b[0;34m,\u001b[0m \u001b[0;34m[\u001b[0m\u001b[0;34m]\u001b[0m\u001b[0;34m,\u001b[0m \u001b[0;34m[\u001b[0m\u001b[0;34m]\u001b[0m\u001b[0;34m,\u001b[0m \u001b[0;34m[\u001b[0m\u001b[0;34m]\u001b[0m\u001b[0;34m,\u001b[0m \u001b[0;34m[\u001b[0m\u001b[0;34m]\u001b[0m\u001b[0;34m\u001b[0m\u001b[0;34m\u001b[0m\u001b[0m\n\u001b[1;32m      2\u001b[0m \u001b[0;32mfor\u001b[0m \u001b[0mli\u001b[0m \u001b[0;32min\u001b[0m \u001b[0menumerate\u001b[0m\u001b[0;34m(\u001b[0m\u001b[0mlis\u001b[0m\u001b[0;34m)\u001b[0m\u001b[0;34m:\u001b[0m                                             \u001b[0;31m#몇번째에서 에러나는지 확인하기위해 인덱스번호 찍기 enumerate\u001b[0m\u001b[0;34m\u001b[0m\u001b[0;34m\u001b[0m\u001b[0m\n\u001b[0;32m----> 3\u001b[0;31m   \u001b[0mhref\u001b[0m \u001b[0;34m=\u001b[0m \u001b[0mli\u001b[0m\u001b[0;34m.\u001b[0m\u001b[0mselect_one\u001b[0m\u001b[0;34m(\u001b[0m\u001b[0;34m'a'\u001b[0m\u001b[0;34m)\u001b[0m\u001b[0;34m[\u001b[0m\u001b[0;34m'href'\u001b[0m\u001b[0;34m]\u001b[0m\u001b[0;34m\u001b[0m\u001b[0;34m\u001b[0m\u001b[0m\n\u001b[0m\u001b[1;32m      4\u001b[0m   \u001b[0murl\u001b[0m \u001b[0;34m=\u001b[0m \u001b[0mbase_url\u001b[0m \u001b[0;34m+\u001b[0m \u001b[0mhref\u001b[0m\u001b[0;34m\u001b[0m\u001b[0;34m\u001b[0m\u001b[0m\n\u001b[1;32m      5\u001b[0m   \u001b[0mreq\u001b[0m \u001b[0;34m=\u001b[0m \u001b[0mrequests\u001b[0m\u001b[0;34m.\u001b[0m\u001b[0mget\u001b[0m\u001b[0;34m(\u001b[0m\u001b[0murl\u001b[0m\u001b[0;34m)\u001b[0m\u001b[0;34m\u001b[0m\u001b[0;34m\u001b[0m\u001b[0m\n",
            "\u001b[0;31mAttributeError\u001b[0m: 'tuple' object has no attribute 'select_one'"
          ]
        }
      ]
    }
  ]
}